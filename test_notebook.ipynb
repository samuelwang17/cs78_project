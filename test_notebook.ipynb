{
 "cells": [
  {
   "cell_type": "code",
   "execution_count": 1,
   "metadata": {},
   "outputs": [],
   "source": [
    "from actor_critic import actor_critic\n",
    "import torch"
   ]
  },
  {
   "cell_type": "code",
   "execution_count": 2,
   "metadata": {},
   "outputs": [
    {
     "name": "stdout",
     "output_type": "stream",
     "text": [
      "tensor(2489957.7500, grad_fn=<AddBackward0>)\n",
      "tensor(2231263.5000, grad_fn=<AddBackward0>)\n"
     ]
    },
    {
     "name": "stderr",
     "output_type": "stream",
     "text": [
      "/Users/ethanbanks/Library/Python/3.9/lib/python/site-packages/torch/autograd/__init__.py:197: UserWarning: Error detected in AddmmBackward0. Traceback of forward call that caused the error:\n",
      "  File \"/Library/Developer/CommandLineTools/Library/Frameworks/Python3.framework/Versions/3.9/lib/python3.9/runpy.py\", line 197, in _run_module_as_main\n",
      "    return _run_code(code, main_globals, None,\n",
      "  File \"/Library/Developer/CommandLineTools/Library/Frameworks/Python3.framework/Versions/3.9/lib/python3.9/runpy.py\", line 87, in _run_code\n",
      "    exec(code, run_globals)\n",
      "  File \"/Users/ethanbanks/Library/Python/3.9/lib/python/site-packages/ipykernel_launcher.py\", line 17, in <module>\n",
      "    app.launch_new_instance()\n",
      "  File \"/Users/ethanbanks/Library/Python/3.9/lib/python/site-packages/traitlets/config/application.py\", line 978, in launch_instance\n",
      "    app.start()\n",
      "  File \"/Users/ethanbanks/Library/Python/3.9/lib/python/site-packages/ipykernel/kernelapp.py\", line 712, in start\n",
      "    self.io_loop.start()\n",
      "  File \"/Users/ethanbanks/Library/Python/3.9/lib/python/site-packages/tornado/platform/asyncio.py\", line 215, in start\n",
      "    self.asyncio_loop.run_forever()\n",
      "  File \"/Library/Developer/CommandLineTools/Library/Frameworks/Python3.framework/Versions/3.9/lib/python3.9/asyncio/base_events.py\", line 596, in run_forever\n",
      "    self._run_once()\n",
      "  File \"/Library/Developer/CommandLineTools/Library/Frameworks/Python3.framework/Versions/3.9/lib/python3.9/asyncio/base_events.py\", line 1890, in _run_once\n",
      "    handle._run()\n",
      "  File \"/Library/Developer/CommandLineTools/Library/Frameworks/Python3.framework/Versions/3.9/lib/python3.9/asyncio/events.py\", line 80, in _run\n",
      "    self._context.run(self._callback, *self._args)\n",
      "  File \"/Users/ethanbanks/Library/Python/3.9/lib/python/site-packages/ipykernel/kernelbase.py\", line 510, in dispatch_queue\n",
      "    await self.process_one()\n",
      "  File \"/Users/ethanbanks/Library/Python/3.9/lib/python/site-packages/ipykernel/kernelbase.py\", line 499, in process_one\n",
      "    await dispatch(*args)\n",
      "  File \"/Users/ethanbanks/Library/Python/3.9/lib/python/site-packages/ipykernel/kernelbase.py\", line 406, in dispatch_shell\n",
      "    await result\n",
      "  File \"/Users/ethanbanks/Library/Python/3.9/lib/python/site-packages/ipykernel/kernelbase.py\", line 730, in execute_request\n",
      "    reply_content = await reply_content\n",
      "  File \"/Users/ethanbanks/Library/Python/3.9/lib/python/site-packages/ipykernel/ipkernel.py\", line 383, in do_execute\n",
      "    res = shell.run_cell(\n",
      "  File \"/Users/ethanbanks/Library/Python/3.9/lib/python/site-packages/ipykernel/zmqshell.py\", line 528, in run_cell\n",
      "    return super().run_cell(*args, **kwargs)\n",
      "  File \"/Users/ethanbanks/Library/Python/3.9/lib/python/site-packages/IPython/core/interactiveshell.py\", line 2885, in run_cell\n",
      "    result = self._run_cell(\n",
      "  File \"/Users/ethanbanks/Library/Python/3.9/lib/python/site-packages/IPython/core/interactiveshell.py\", line 2940, in _run_cell\n",
      "    return runner(coro)\n",
      "  File \"/Users/ethanbanks/Library/Python/3.9/lib/python/site-packages/IPython/core/async_helpers.py\", line 129, in _pseudo_sync_runner\n",
      "    coro.send(None)\n",
      "  File \"/Users/ethanbanks/Library/Python/3.9/lib/python/site-packages/IPython/core/interactiveshell.py\", line 3139, in run_cell_async\n",
      "    has_raised = await self.run_ast_nodes(code_ast.body, cell_name,\n",
      "  File \"/Users/ethanbanks/Library/Python/3.9/lib/python/site-packages/IPython/core/interactiveshell.py\", line 3318, in run_ast_nodes\n",
      "    if await self.run_code(code, result, async_=asy):\n",
      "  File \"/Users/ethanbanks/Library/Python/3.9/lib/python/site-packages/IPython/core/interactiveshell.py\", line 3378, in run_code\n",
      "    exec(code_obj, self.user_global_ns, self.user_ns)\n",
      "  File \"/var/folders/5l/0v1g6ztj2_3272nwsptb6rpc0000gn/T/ipykernel_85469/922284623.py\", line 14, in <module>\n",
      "    loss, adv, Qs, values, alps = worker.play_hand()\n",
      "  File \"/Users/ethanbanks/Documents/GitHub/banks-ml-1/cs78_project/actor_critic.py\", line 206, in play_hand\n",
      "    policy_logits, values = self.agent(player, self.obs_flat)\n",
      "  File \"/Users/ethanbanks/Library/Python/3.9/lib/python/site-packages/torch/nn/modules/module.py\", line 1194, in _call_impl\n",
      "    return forward_call(*input, **kwargs)\n",
      "  File \"/Users/ethanbanks/Documents/GitHub/banks-ml-1/cs78_project/actor_critic.py\", line 43, in forward\n",
      "    policy_logits, value = self.model(enc_input, dec_input)\n",
      "  File \"/Users/ethanbanks/Library/Python/3.9/lib/python/site-packages/torch/nn/modules/module.py\", line 1194, in _call_impl\n",
      "    return forward_call(*input, **kwargs)\n",
      "  File \"/Users/ethanbanks/Documents/GitHub/banks-ml-1/cs78_project/transformer.py\", line 54, in forward\n",
      "    value = self.critic(dec)\n",
      "  File \"/Users/ethanbanks/Library/Python/3.9/lib/python/site-packages/torch/nn/modules/module.py\", line 1194, in _call_impl\n",
      "    return forward_call(*input, **kwargs)\n",
      "  File \"/Users/ethanbanks/Library/Python/3.9/lib/python/site-packages/torch/nn/modules/container.py\", line 204, in forward\n",
      "    input = module(input)\n",
      "  File \"/Users/ethanbanks/Library/Python/3.9/lib/python/site-packages/torch/nn/modules/module.py\", line 1194, in _call_impl\n",
      "    return forward_call(*input, **kwargs)\n",
      "  File \"/Users/ethanbanks/Library/Python/3.9/lib/python/site-packages/torch/nn/modules/linear.py\", line 114, in forward\n",
      "    return F.linear(input, self.weight, self.bias)\n",
      "  File \"/Users/ethanbanks/Library/Python/3.9/lib/python/site-packages/torch/fx/traceback.py\", line 57, in format_stack\n",
      "    return traceback.format_stack()\n",
      " (Triggered internally at /Users/runner/work/pytorch/pytorch/pytorch/torch/csrc/autograd/python_anomaly_mode.cpp:119.)\n",
      "  Variable._execution_engine.run_backward(  # Calls into the C++ engine to run the backward pass\n"
     ]
    },
    {
     "ename": "RuntimeError",
     "evalue": "Trying to backward through the graph a second time (or directly access saved tensors after they have already been freed). Saved intermediate values of the graph are freed when you call .backward() or autograd.grad(). Specify retain_graph=True if you need to backward through the graph a second time or if you need to access saved tensors after calling backward.",
     "output_type": "error",
     "traceback": [
      "\u001b[0;31m---------------------------------------------------------------------------\u001b[0m",
      "\u001b[0;31mRuntimeError\u001b[0m                              Traceback (most recent call last)",
      "Cell \u001b[0;32mIn [2], line 19\u001b[0m\n\u001b[1;32m     17\u001b[0m loss, adv, Qs, values, alps \u001b[39m=\u001b[39m worker\u001b[39m.\u001b[39mplay_hand()\n\u001b[1;32m     18\u001b[0m \u001b[39mprint\u001b[39m(loss)\n\u001b[0;32m---> 19\u001b[0m loss\u001b[39m.\u001b[39;49mbackward()\n",
      "File \u001b[0;32m~/Library/Python/3.9/lib/python/site-packages/torch/_tensor.py:488\u001b[0m, in \u001b[0;36mTensor.backward\u001b[0;34m(self, gradient, retain_graph, create_graph, inputs)\u001b[0m\n\u001b[1;32m    478\u001b[0m \u001b[39mif\u001b[39;00m has_torch_function_unary(\u001b[39mself\u001b[39m):\n\u001b[1;32m    479\u001b[0m     \u001b[39mreturn\u001b[39;00m handle_torch_function(\n\u001b[1;32m    480\u001b[0m         Tensor\u001b[39m.\u001b[39mbackward,\n\u001b[1;32m    481\u001b[0m         (\u001b[39mself\u001b[39m,),\n\u001b[0;32m   (...)\u001b[0m\n\u001b[1;32m    486\u001b[0m         inputs\u001b[39m=\u001b[39minputs,\n\u001b[1;32m    487\u001b[0m     )\n\u001b[0;32m--> 488\u001b[0m torch\u001b[39m.\u001b[39;49mautograd\u001b[39m.\u001b[39;49mbackward(\n\u001b[1;32m    489\u001b[0m     \u001b[39mself\u001b[39;49m, gradient, retain_graph, create_graph, inputs\u001b[39m=\u001b[39;49minputs\n\u001b[1;32m    490\u001b[0m )\n",
      "File \u001b[0;32m~/Library/Python/3.9/lib/python/site-packages/torch/autograd/__init__.py:197\u001b[0m, in \u001b[0;36mbackward\u001b[0;34m(tensors, grad_tensors, retain_graph, create_graph, grad_variables, inputs)\u001b[0m\n\u001b[1;32m    192\u001b[0m     retain_graph \u001b[39m=\u001b[39m create_graph\n\u001b[1;32m    194\u001b[0m \u001b[39m# The reason we repeat same the comment below is that\u001b[39;00m\n\u001b[1;32m    195\u001b[0m \u001b[39m# some Python versions print out the first line of a multi-line function\u001b[39;00m\n\u001b[1;32m    196\u001b[0m \u001b[39m# calls in the traceback and some print out the last line\u001b[39;00m\n\u001b[0;32m--> 197\u001b[0m Variable\u001b[39m.\u001b[39;49m_execution_engine\u001b[39m.\u001b[39;49mrun_backward(  \u001b[39m# Calls into the C++ engine to run the backward pass\u001b[39;49;00m\n\u001b[1;32m    198\u001b[0m     tensors, grad_tensors_, retain_graph, create_graph, inputs,\n\u001b[1;32m    199\u001b[0m     allow_unreachable\u001b[39m=\u001b[39;49m\u001b[39mTrue\u001b[39;49;00m, accumulate_grad\u001b[39m=\u001b[39;49m\u001b[39mTrue\u001b[39;49;00m)\n",
      "\u001b[0;31mRuntimeError\u001b[0m: Trying to backward through the graph a second time (or directly access saved tensors after they have already been freed). Saved intermediate values of the graph are freed when you call .backward() or autograd.grad(). Specify retain_graph=True if you need to backward through the graph a second time or if you need to access saved tensors after calling backward."
     ]
    }
   ],
   "source": [
    "worker = actor_critic(\n",
    "    model_dim = 64,\n",
    "    mlp_dim = 128,\n",
    "    heads = 4,\n",
    "    enc_layers = 2,\n",
    "    dec_layers = 2,\n",
    "    max_sequence = 100,\n",
    "    n_players = 6,\n",
    "    gamma = 0.99,\n",
    "    n_actions = 14\n",
    "    )\n",
    "\n",
    "with torch.autograd.set_detect_anomaly(True):\n",
    "    loss, adv, Qs, values, alps = worker.play_hand()\n",
    "    print(loss)\n",
    "    loss.backward(retain_graph=True)\n",
    "    loss, adv, Qs, values, alps = worker.play_hand()\n",
    "    print(loss)\n",
    "    loss.backward()"
   ]
  },
  {
   "cell_type": "code",
   "execution_count": null,
   "metadata": {},
   "outputs": [],
   "source": [
    "# nothing in self.values has grad enabled"
   ]
  },
  {
   "cell_type": "code",
   "execution_count": 3,
   "metadata": {},
   "outputs": [
    {
     "data": {
      "text/plain": [
       "(torch.Size([89, 6]),\n",
       " torch.Size([89, 6]),\n",
       " torch.Size([89, 6]),\n",
       " torch.Size([89, 6]))"
      ]
     },
     "execution_count": 3,
     "metadata": {},
     "output_type": "execute_result"
    }
   ],
   "source": [
    "adv.size(), Qs.size(), values.size(), alps.size()"
   ]
  },
  {
   "cell_type": "code",
   "execution_count": 4,
   "metadata": {},
   "outputs": [
    {
     "data": {
      "text/plain": [
       "True"
      ]
     },
     "execution_count": 4,
     "metadata": {},
     "output_type": "execute_result"
    }
   ],
   "source": [
    "alps.requires_grad"
   ]
  },
  {
   "cell_type": "code",
   "execution_count": 5,
   "metadata": {},
   "outputs": [
    {
     "data": {
      "text/plain": [
       "(tensor([ 9705.4717, 10550.7656,  9700.2686,  9835.2695, 10051.2852,  9799.9316],\n",
       "        grad_fn=<SelectBackward0>),\n",
       " tensor([-294.5281,  550.7652, -299.7313, -164.7304,   51.2854, -200.0681],\n",
       "        grad_fn=<SelectBackward0>),\n",
       " tensor([-10000., -10000., -10000., -10000., -10000., -10000.],\n",
       "        grad_fn=<SelectBackward0>))"
      ]
     },
     "execution_count": 5,
     "metadata": {},
     "output_type": "execute_result"
    }
   ],
   "source": [
    "adv[0], Qs[0], values[0] #values does not have grad enabled for some reason"
   ]
  },
  {
   "cell_type": "code",
   "execution_count": 6,
   "metadata": {},
   "outputs": [
    {
     "data": {
      "text/plain": [
       "tensor([[-2.9453e+02,  5.5077e+02, -2.9973e+02, -1.6473e+02,  5.1285e+01,\n",
       "         -2.0007e+02],\n",
       "        [-2.9750e+02,  5.5633e+02, -3.0175e+02, -1.6639e+02,  5.1803e+01,\n",
       "         -2.0209e+02],\n",
       "        [-1.0000e+05, -1.0000e+05, -1.0000e+05, -1.0000e+05,  5.2327e+01,\n",
       "         -1.0000e+05],\n",
       "        [-1.0000e+05, -1.0000e+05, -1.0000e+05, -1.0000e+05, -1.0000e+05,\n",
       "         -2.0619e+02],\n",
       "        [-3.0661e+02, -1.0000e+05, -1.0000e+05, -1.0000e+05, -1.0000e+05,\n",
       "         -1.0000e+05],\n",
       "        [-1.0000e+05,  5.7915e+02, -1.0000e+05, -1.0000e+05, -1.0000e+05,\n",
       "         -1.0000e+05],\n",
       "        [-1.0000e+05, -1.0000e+05, -3.1730e+02, -1.0000e+05, -1.0000e+05,\n",
       "         -1.0000e+05],\n",
       "        [-1.0000e+05, -1.0000e+05, -1.0000e+05, -1.7461e+02, -1.0000e+05,\n",
       "         -1.0000e+05],\n",
       "        [-1.0000e+05, -1.0000e+05, -1.0000e+05, -1.0000e+05,  5.7703e+01,\n",
       "         -1.0000e+05],\n",
       "        [-1.0000e+05, -1.0000e+05, -1.0000e+05, -1.0000e+05, -1.0000e+05,\n",
       "         -2.1157e+02],\n",
       "        [-3.1717e+02, -1.0000e+05, -1.0000e+05, -1.0000e+05, -1.0000e+05,\n",
       "         -1.0000e+05],\n",
       "        [-1.0000e+05,  6.2896e+02, -1.0000e+05, -1.0000e+05, -1.0000e+05,\n",
       "         -1.0000e+05],\n",
       "        [-1.0000e+05, -1.0000e+05, -3.1365e+02, -1.0000e+05, -1.0000e+05,\n",
       "         -1.0000e+05],\n",
       "        [-1.0000e+05, -1.0000e+05, -1.0000e+05, -1.4617e+02, -1.0000e+05,\n",
       "         -1.0000e+05],\n",
       "        [-1.0000e+05, -1.0000e+05, -1.0000e+05, -1.0000e+05,  1.6644e+02,\n",
       "         -1.0000e+05],\n",
       "        [-1.0000e+05, -1.0000e+05, -1.0000e+05, -1.0000e+05, -1.0000e+05,\n",
       "         -8.7706e+01],\n",
       "        [-1.0000e+05, -1.0000e+05, -1.0000e+05, -1.0000e+05, -1.0000e+05,\n",
       "         -1.0000e+05],\n",
       "        [-1.0000e+05, -1.0000e+05, -1.0000e+05, -1.0000e+05, -1.0000e+05,\n",
       "         -1.0000e+05],\n",
       "        [-1.0000e+05, -1.0000e+05, -1.0000e+05, -1.0000e+05, -1.0000e+05,\n",
       "         -1.0000e+05],\n",
       "        [-1.0000e+05, -1.0000e+05, -1.4661e+02, -1.0000e+05, -1.0000e+05,\n",
       "         -1.0000e+05],\n",
       "        [-1.0000e+05, -1.0000e+05, -1.0000e+05, -1.5682e+02, -1.0000e+05,\n",
       "         -1.0000e+05],\n",
       "        [-1.0000e+05, -1.0000e+05, -1.0000e+05, -1.0000e+05,  1.7858e+02,\n",
       "         -1.0000e+05],\n",
       "        [-1.0000e+05, -1.0000e+05, -1.0000e+05, -1.0000e+05, -1.0000e+05,\n",
       "         -9.4098e+01],\n",
       "        [-1.4948e+02, -1.0000e+05, -1.0000e+05, -1.0000e+05, -1.0000e+05,\n",
       "         -1.0000e+05],\n",
       "        [-1.0000e+05,  9.1389e+02, -1.0000e+05, -1.0000e+05, -1.0000e+05,\n",
       "         -1.0000e+05],\n",
       "        [-1.0000e+05, -1.0000e+05, -1.5573e+02, -1.0000e+05, -1.0000e+05,\n",
       "         -1.0000e+05],\n",
       "        [-1.0000e+05, -1.0000e+05, -1.0000e+05, -1.0000e+05, -1.0000e+05,\n",
       "         -1.0000e+05],\n",
       "        [-1.0000e+05, -1.0000e+05, -1.0000e+05, -1.0000e+05, -1.0000e+05,\n",
       "         -1.0000e+05],\n",
       "        [-1.0000e+05, -1.0000e+05, -1.0000e+05, -1.0000e+05, -1.0000e+05,\n",
       "         -1.0000e+05],\n",
       "        [-1.0000e+05, -1.0000e+05, -1.0000e+05, -1.0000e+05, -1.0000e+05,\n",
       "         -1.0000e+05],\n",
       "        [-1.0000e+05, -1.0000e+05, -1.0000e+05, -1.0000e+05, -1.0000e+05,\n",
       "         -1.0000e+05],\n",
       "        [-1.0000e+05, -1.0000e+05, -1.0000e+05, -1.0000e+05, -1.0000e+05,\n",
       "         -1.0000e+05],\n",
       "        [-1.0000e+05, -1.0000e+05, -1.6708e+02, -1.0000e+05, -1.0000e+05,\n",
       "         -1.0000e+05],\n",
       "        [-1.0000e+05, -1.0000e+05, -1.0000e+05, -1.7871e+02, -1.0000e+05,\n",
       "         -1.0000e+05],\n",
       "        [-1.0000e+05, -1.0000e+05, -1.0000e+05, -1.0000e+05,  3.1632e+02,\n",
       "         -1.0000e+05],\n",
       "        [-1.0000e+05, -1.0000e+05, -1.0000e+05, -1.0000e+05, -1.0000e+05,\n",
       "         -3.4299e+01],\n",
       "        [-1.6350e+02, -1.0000e+05, -1.0000e+05, -1.0000e+05, -1.0000e+05,\n",
       "         -1.0000e+05],\n",
       "        [-1.0000e+05, -1.0000e+05, -1.0000e+05, -1.0000e+05, -1.0000e+05,\n",
       "         -1.0000e+05],\n",
       "        [-1.0000e+05, -1.0000e+05, -1.0000e+05, -1.0000e+05, -1.0000e+05,\n",
       "         -1.0000e+05],\n",
       "        [-1.0000e+05, -1.0000e+05, -1.0000e+05, -1.0000e+05, -1.0000e+05,\n",
       "         -1.0000e+05],\n",
       "        [-1.7021e+02, -1.4898e+02, -1.8107e+02, -1.7978e+01,  3.3800e+02,\n",
       "         -3.6067e+01],\n",
       "        [-1.7193e+02, -1.5049e+02, -1.8290e+02, -1.8160e+01,  3.4242e+02,\n",
       "         -3.6431e+01],\n",
       "        [-1.7367e+02, -1.0000e+05, -1.0000e+05, -1.0000e+05, -1.0000e+05,\n",
       "         -1.0000e+05],\n",
       "        [-1.0000e+05, -1.5354e+02, -1.0000e+05, -1.0000e+05, -1.0000e+05,\n",
       "         -1.0000e+05],\n",
       "        [-1.0000e+05, -1.0000e+05, -1.8849e+02, -1.0000e+05, -1.0000e+05,\n",
       "         -1.0000e+05],\n",
       "        [-1.0000e+05, -1.0000e+05, -1.0000e+05, -1.8905e+01, -1.0000e+05,\n",
       "         -1.0000e+05],\n",
       "        [-1.0000e+05, -1.0000e+05, -1.0000e+05, -1.0000e+05,  3.6007e+02,\n",
       "         -1.0000e+05],\n",
       "        [-1.0000e+05, -1.0000e+05, -1.0000e+05, -1.0000e+05, -1.0000e+05,\n",
       "         -3.6572e+01],\n",
       "        [-1.8234e+02, -1.0000e+05, -1.0000e+05, -1.0000e+05, -1.0000e+05,\n",
       "         -1.0000e+05],\n",
       "        [-1.0000e+05, -1.5990e+02, -1.0000e+05, -1.0000e+05, -1.0000e+05,\n",
       "         -1.0000e+05],\n",
       "        [-1.0000e+05, -1.0000e+05, -1.9490e+02, -1.0000e+05, -1.0000e+05,\n",
       "         -1.0000e+05],\n",
       "        [-1.0000e+05, -1.0000e+05, -1.0000e+05,  1.0139e-01, -1.0000e+05,\n",
       "         -1.0000e+05],\n",
       "        [-1.0000e+05, -1.0000e+05, -1.0000e+05, -1.0000e+05,  4.0476e+02,\n",
       "         -1.0000e+05],\n",
       "        [-1.0000e+05, -1.0000e+05, -1.0000e+05, -1.0000e+05, -1.0000e+05,\n",
       "         -6.0711e-01],\n",
       "        [-1.2994e+02, -1.0000e+05, -1.0000e+05, -1.0000e+05, -1.0000e+05,\n",
       "         -1.0000e+05],\n",
       "        [-1.0000e+05,  1.0546e-01, -1.0000e+05, -1.0000e+05, -1.0000e+05,\n",
       "         -1.0000e+05],\n",
       "        [-1.0000e+05, -1.0000e+05, -1.0000e+05, -1.0000e+05, -1.0000e+05,\n",
       "         -1.0000e+05],\n",
       "        [-1.0000e+05, -1.0000e+05, -1.0000e+05, -1.0000e+05, -1.0000e+05,\n",
       "         -1.0000e+05],\n",
       "        [-1.0000e+05, -1.0000e+05, -1.0000e+05, -1.0000e+05, -1.0000e+05,\n",
       "         -1.0000e+05],\n",
       "        [-1.0000e+05, -1.0000e+05, -1.0000e+05, -1.0000e+05,  6.2523e+02,\n",
       "         -1.0000e+05],\n",
       "        [-1.0000e+05, -1.0000e+05, -1.0000e+05, -1.0000e+05, -1.0000e+05,\n",
       "         -6.5136e-01],\n",
       "        [-1.3941e+02, -1.0000e+05, -1.0000e+05, -1.0000e+05, -1.0000e+05,\n",
       "         -1.0000e+05],\n",
       "        [-1.0000e+05,  1.1315e-01, -1.0000e+05, -1.0000e+05, -1.0000e+05,\n",
       "         -1.0000e+05],\n",
       "        [-1.0000e+05, -1.0000e+05,  1.1438e-01, -1.0000e+05, -1.0000e+05,\n",
       "         -1.0000e+05],\n",
       "        [-1.0000e+05, -1.0000e+05, -1.0000e+05, -1.0000e+05, -1.0000e+05,\n",
       "         -1.0000e+05],\n",
       "        [-1.0000e+05, -1.0000e+05, -1.0000e+05, -1.0000e+05, -1.0000e+05,\n",
       "         -1.0000e+05],\n",
       "        [-1.0000e+05, -1.0000e+05, -1.0000e+05, -1.0000e+05, -1.0000e+05,\n",
       "         -1.0000e+05],\n",
       "        [-1.0000e+05, -1.0000e+05, -1.0000e+05, -1.0000e+05, -1.0000e+05,\n",
       "         -1.0000e+05],\n",
       "        [-1.0000e+05, -1.0000e+05, -1.0000e+05, -1.0000e+05, -1.0000e+05,\n",
       "         -1.0000e+05],\n",
       "        [-1.0000e+05, -1.0000e+05, -1.0000e+05, -1.0000e+05, -1.0000e+05,\n",
       "         -1.0000e+05],\n",
       "        [-1.0000e+05, -1.0000e+05, -1.0000e+05, -1.0000e+05,  6.9832e+02,\n",
       "         -1.0000e+05],\n",
       "        [-1.0000e+05, -1.0000e+05, -1.0000e+05, -1.0000e+05, -1.0000e+05,\n",
       "         -7.2750e-01],\n",
       "        [-1.5778e+00, -1.0000e+05, -1.0000e+05, -1.0000e+05, -1.0000e+05,\n",
       "         -1.0000e+05],\n",
       "        [-1.0000e+05,  1.2638e-01, -1.0000e+05, -1.0000e+05, -1.0000e+05,\n",
       "         -1.0000e+05],\n",
       "        [-1.0000e+05, -1.0000e+05,  1.2775e-01, -1.0000e+05, -1.0000e+05,\n",
       "         -1.0000e+05],\n",
       "        [-1.0000e+05, -1.0000e+05, -1.0000e+05, -1.0000e+05, -1.0000e+05,\n",
       "         -1.0000e+05],\n",
       "        [-1.0000e+05, -1.0000e+05, -1.0000e+05, -1.0000e+05, -1.0000e+05,\n",
       "         -1.0000e+05],\n",
       "        [-1.0000e+05, -1.0000e+05, -1.0000e+05, -1.0000e+05, -1.0000e+05,\n",
       "         -1.0000e+05],\n",
       "        [-1.0000e+05, -1.0000e+05, -1.0000e+05, -1.0000e+05, -1.0000e+05,\n",
       "         -1.0000e+05],\n",
       "        [-1.0000e+05, -1.0000e+05, -1.0000e+05, -1.0000e+05, -1.0000e+05,\n",
       "         -1.0000e+05],\n",
       "        [-1.0000e+05, -1.0000e+05, -1.0000e+05, -1.0000e+05, -1.0000e+05,\n",
       "         -1.0000e+05],\n",
       "        [-1.0000e+05, -1.0000e+05, -1.0000e+05, -1.0000e+05,  7.7995e+02,\n",
       "         -1.0000e+05],\n",
       "        [-1.0000e+05, -1.0000e+05, -1.0000e+05, -1.0000e+05, -1.0000e+05,\n",
       "         -8.1254e-01],\n",
       "        [-1.7622e+00, -1.0000e+05, -1.0000e+05, -1.0000e+05, -1.0000e+05,\n",
       "         -1.0000e+05],\n",
       "        [-1.0000e+05,  1.4115e-01, -1.0000e+05, -1.0000e+05, -1.0000e+05,\n",
       "         -1.0000e+05],\n",
       "        [-1.0000e+05, -1.0000e+05,  1.4269e-01, -1.0000e+05, -1.0000e+05,\n",
       "         -1.0000e+05],\n",
       "        [-1.0000e+05, -1.0000e+05, -1.0000e+05, -1.0000e+05, -1.0000e+05,\n",
       "         -1.0000e+05],\n",
       "        [-1.0000e+05, -1.0000e+05, -1.0000e+05, -1.0000e+05, -1.0000e+05,\n",
       "         -1.0000e+05],\n",
       "        [-1.0000e+05, -1.0000e+05, -1.0000e+05, -1.0000e+05, -1.0000e+05,\n",
       "         -1.0000e+05]], grad_fn=<MaskedFillBackward0>)"
      ]
     },
     "execution_count": 6,
     "metadata": {},
     "output_type": "execute_result"
    }
   ],
   "source": [
    "Qs"
   ]
  },
  {
   "cell_type": "code",
   "execution_count": 8,
   "metadata": {},
   "outputs": [
    {
     "data": {
      "text/plain": [
       "tensor(15.1399, grad_fn=<MeanBackward0>)"
      ]
     },
     "execution_count": 8,
     "metadata": {},
     "output_type": "execute_result"
    }
   ],
   "source": [
    "(-alps * adv).mean()"
   ]
  },
  {
   "cell_type": "code",
   "execution_count": null,
   "metadata": {},
   "outputs": [],
   "source": [
    "alp"
   ]
  }
 ],
 "metadata": {
  "kernelspec": {
   "display_name": "Python 3",
   "language": "python",
   "name": "python3"
  },
  "language_info": {
   "codemirror_mode": {
    "name": "ipython",
    "version": 3
   },
   "file_extension": ".py",
   "mimetype": "text/x-python",
   "name": "python",
   "nbconvert_exporter": "python",
   "pygments_lexer": "ipython3",
   "version": "3.9.6"
  },
  "orig_nbformat": 4,
  "vscode": {
   "interpreter": {
    "hash": "31f2aee4e71d21fbe5cf8b01ff0e069b9275f58929596ceb00d14d90e3e16cd6"
   }
  }
 },
 "nbformat": 4,
 "nbformat_minor": 2
}
