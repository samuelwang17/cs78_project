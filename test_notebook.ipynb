{
 "cells": [
  {
   "cell_type": "code",
   "execution_count": 1,
   "metadata": {},
   "outputs": [],
   "source": [
    "from actor_critic import actor_critic"
   ]
  },
  {
   "cell_type": "code",
   "execution_count": 6,
   "metadata": {},
   "outputs": [
    {
     "ename": "TypeError",
     "evalue": "__init__() got an unexpected keyword argument 'sequence_length'",
     "output_type": "error",
     "traceback": [
      "\u001b[0;31m---------------------------------------------------------------------------\u001b[0m",
      "\u001b[0;31mTypeError\u001b[0m                                 Traceback (most recent call last)",
      "Cell \u001b[0;32mIn [6], line 1\u001b[0m\n\u001b[0;32m----> 1\u001b[0m worker \u001b[39m=\u001b[39m actor_critic(\n\u001b[1;32m      2\u001b[0m     model_dim \u001b[39m=\u001b[39;49m \u001b[39m64\u001b[39;49m,\n\u001b[1;32m      3\u001b[0m     mlp_dim \u001b[39m=\u001b[39;49m \u001b[39m128\u001b[39;49m,\n\u001b[1;32m      4\u001b[0m     heads \u001b[39m=\u001b[39;49m \u001b[39m4\u001b[39;49m,\n\u001b[1;32m      5\u001b[0m     enc_layers \u001b[39m=\u001b[39;49m \u001b[39m2\u001b[39;49m,\n\u001b[1;32m      6\u001b[0m     dec_layers \u001b[39m=\u001b[39;49m \u001b[39m2\u001b[39;49m,\n\u001b[1;32m      7\u001b[0m     max_sequence \u001b[39m=\u001b[39;49m \u001b[39m100\u001b[39;49m,\n\u001b[1;32m      8\u001b[0m     n_players \u001b[39m=\u001b[39;49m \u001b[39m6\u001b[39;49m,\n\u001b[1;32m      9\u001b[0m     gamma \u001b[39m=\u001b[39;49m \u001b[39m0.99\u001b[39;49m,\n\u001b[1;32m     10\u001b[0m     n_actions \u001b[39m=\u001b[39;49m \u001b[39m14\u001b[39;49m\n\u001b[1;32m     11\u001b[0m     )\n",
      "File \u001b[0;32m~/Documents/GitHub/banks-ml-1/cs78_project/actor_critic.py:64\u001b[0m, in \u001b[0;36mactor_critic.__init__\u001b[0;34m(self, model_dim, mlp_dim, heads, enc_layers, dec_layers, max_sequence, n_players, gamma, n_actions)\u001b[0m\n\u001b[1;32m     62\u001b[0m \u001b[39mself\u001b[39m\u001b[39m.\u001b[39mgamma \u001b[39m=\u001b[39m gamma\n\u001b[1;32m     63\u001b[0m \u001b[39mself\u001b[39m\u001b[39m.\u001b[39menv \u001b[39m=\u001b[39m poker_env(n_players \u001b[39m=\u001b[39m n_players)\n\u001b[0;32m---> 64\u001b[0m \u001b[39mself\u001b[39m\u001b[39m.\u001b[39magent \u001b[39m=\u001b[39m Agent(\n\u001b[1;32m     65\u001b[0m     model_dim \u001b[39m=\u001b[39;49m model_dim,\n\u001b[1;32m     66\u001b[0m     mlp_dim \u001b[39m=\u001b[39;49m mlp_dim,\n\u001b[1;32m     67\u001b[0m     attn_heads \u001b[39m=\u001b[39;49m heads,\n\u001b[1;32m     68\u001b[0m     sequence_length \u001b[39m=\u001b[39;49m max_sequence,\n\u001b[1;32m     69\u001b[0m     enc_layers \u001b[39m=\u001b[39;49m enc_layers,\n\u001b[1;32m     70\u001b[0m     dec_layers \u001b[39m=\u001b[39;49m dec_layers,\n\u001b[1;32m     71\u001b[0m     action_dim \u001b[39m=\u001b[39;49m n_actions,\n\u001b[1;32m     72\u001b[0m )\n\u001b[1;32m     74\u001b[0m \u001b[39mself\u001b[39m\u001b[39m.\u001b[39mobservations \u001b[39m=\u001b[39m [] \u001b[39m#this will be a list of lists, each is the list of observations in a hand\u001b[39;00m\n\u001b[1;32m     75\u001b[0m \u001b[39mself\u001b[39m\u001b[39m.\u001b[39mobs_flat \u001b[39m=\u001b[39m \u001b[39mlist\u001b[39m(chain(\u001b[39m*\u001b[39m\u001b[39mself\u001b[39m\u001b[39m.\u001b[39mobservations))\n",
      "File \u001b[0;32m~/Documents/GitHub/banks-ml-1/cs78_project/actor_critic.py:23\u001b[0m, in \u001b[0;36mAgent.__init__\u001b[0;34m(self, model_dim, mlp_dim, attn_heads, sequence_length, enc_layers, dec_layers, action_dim)\u001b[0m\n\u001b[1;32m     13\u001b[0m \u001b[39mdef\u001b[39;00m \u001b[39m__init__\u001b[39m(\u001b[39mself\u001b[39m,\n\u001b[1;32m     14\u001b[0m     model_dim,\n\u001b[1;32m     15\u001b[0m     mlp_dim,\n\u001b[0;32m   (...)\u001b[0m\n\u001b[1;32m     20\u001b[0m     action_dim,\n\u001b[1;32m     21\u001b[0m ) \u001b[39m-\u001b[39m\u001b[39m>\u001b[39m \u001b[39mNone\u001b[39;00m:\n\u001b[1;32m     22\u001b[0m     \u001b[39msuper\u001b[39m()\u001b[39m.\u001b[39m\u001b[39m__init__\u001b[39m()\n\u001b[0;32m---> 23\u001b[0m     \u001b[39mself\u001b[39m\u001b[39m.\u001b[39mmodel \u001b[39m=\u001b[39m RLformer(\n\u001b[1;32m     24\u001b[0m         model_dim \u001b[39m=\u001b[39;49m model_dim,\n\u001b[1;32m     25\u001b[0m         mlp_dim \u001b[39m=\u001b[39;49m mlp_dim,\n\u001b[1;32m     26\u001b[0m         attn_heads \u001b[39m=\u001b[39;49m attn_heads,\n\u001b[1;32m     27\u001b[0m         sequence_length \u001b[39m=\u001b[39;49m sequence_length,\n\u001b[1;32m     28\u001b[0m         enc_layers \u001b[39m=\u001b[39;49m enc_layers,\n\u001b[1;32m     29\u001b[0m         dec_layers \u001b[39m=\u001b[39;49m dec_layers,\n\u001b[1;32m     30\u001b[0m         action_dim \u001b[39m=\u001b[39;49m action_dim,\n\u001b[1;32m     31\u001b[0m     )\n\u001b[1;32m     33\u001b[0m     \u001b[39mself\u001b[39m\u001b[39m.\u001b[39mtokenizer \u001b[39m=\u001b[39m  Tokenizer(model_dim\u001b[39m=\u001b[39mmodel_dim)\n",
      "File \u001b[0;32m~/Documents/GitHub/banks-ml-1/cs78_project/transformer.py:23\u001b[0m, in \u001b[0;36mmod_transformer.__init__\u001b[0;34m(self, model_dim, mlp_dim, attn_heads, sequence_length, enc_layers, dec_layers, action_dim)\u001b[0m\n\u001b[1;32m     12\u001b[0m \u001b[39mdef\u001b[39;00m \u001b[39m__init__\u001b[39m(\u001b[39mself\u001b[39m,\n\u001b[1;32m     13\u001b[0m model_dim,\n\u001b[1;32m     14\u001b[0m mlp_dim,\n\u001b[0;32m   (...)\u001b[0m\n\u001b[1;32m     19\u001b[0m action_dim\n\u001b[1;32m     20\u001b[0m ) \u001b[39m-\u001b[39m\u001b[39m>\u001b[39m \u001b[39mNone\u001b[39;00m:\n\u001b[1;32m     21\u001b[0m     \u001b[39msuper\u001b[39m()\u001b[39m.\u001b[39m\u001b[39m__init__\u001b[39m()\n\u001b[0;32m---> 23\u001b[0m     \u001b[39mself\u001b[39m\u001b[39m.\u001b[39mencoder \u001b[39m=\u001b[39m encoder(\n\u001b[1;32m     24\u001b[0m         layers\u001b[39m=\u001b[39;49menc_layers,\n\u001b[1;32m     25\u001b[0m         model_dim\u001b[39m=\u001b[39;49mmodel_dim,\n\u001b[1;32m     26\u001b[0m         mlp_dim\u001b[39m=\u001b[39;49mmlp_dim,\n\u001b[1;32m     27\u001b[0m         heads\u001b[39m=\u001b[39;49mattn_heads,\n\u001b[1;32m     28\u001b[0m         sequence_length \u001b[39m=\u001b[39;49m sequence_length\n\u001b[1;32m     29\u001b[0m     )\n\u001b[1;32m     31\u001b[0m     \u001b[39mself\u001b[39m\u001b[39m.\u001b[39mdecoder \u001b[39m=\u001b[39m decoder(\n\u001b[1;32m     32\u001b[0m         layers\u001b[39m=\u001b[39mdec_layers,\n\u001b[1;32m     33\u001b[0m         model_dim\u001b[39m=\u001b[39m model_dim,\n\u001b[0;32m   (...)\u001b[0m\n\u001b[1;32m     36\u001b[0m         sequence_length\u001b[39m=\u001b[39msequence_length,\n\u001b[1;32m     37\u001b[0m     )\n\u001b[1;32m     39\u001b[0m     \u001b[39mself\u001b[39m\u001b[39m.\u001b[39mactor \u001b[39m=\u001b[39m nn\u001b[39m.\u001b[39mSequential(\n\u001b[1;32m     40\u001b[0m         nn\u001b[39m.\u001b[39mLinear(model_dim, action_dim),\n\u001b[1;32m     41\u001b[0m         nn\u001b[39m.\u001b[39mReLU(),\n\u001b[1;32m     42\u001b[0m     ) \u001b[39m# actor returns logits, softmax handled at higher level\u001b[39;00m\n",
      "File \u001b[0;32m~/Documents/GitHub/banks-ml-1/cs78_project/encoder.py:63\u001b[0m, in \u001b[0;36mencoder.__init__\u001b[0;34m(self, layers, model_dim, mlp_dim, heads, sequence_length)\u001b[0m\n\u001b[1;32m     61\u001b[0m \u001b[39mself\u001b[39m\u001b[39m.\u001b[39mblock \u001b[39m=\u001b[39m nn\u001b[39m.\u001b[39mSequential()\n\u001b[1;32m     62\u001b[0m \u001b[39mfor\u001b[39;00m x \u001b[39min\u001b[39;00m \u001b[39mrange\u001b[39m(layers):\n\u001b[0;32m---> 63\u001b[0m     \u001b[39mself\u001b[39m\u001b[39m.\u001b[39mblock\u001b[39m.\u001b[39mappend(encoder_layer(\n\u001b[1;32m     64\u001b[0m         embed_dim \u001b[39m=\u001b[39;49m model_dim,\n\u001b[1;32m     65\u001b[0m         mlp_dim \u001b[39m=\u001b[39;49m mlp_dim,\n\u001b[1;32m     66\u001b[0m         attention_heads \u001b[39m=\u001b[39;49m heads,\n\u001b[1;32m     67\u001b[0m         sequence_length \u001b[39m=\u001b[39;49m sequence_length\n\u001b[1;32m     68\u001b[0m     ))\n",
      "\u001b[0;31mTypeError\u001b[0m: __init__() got an unexpected keyword argument 'sequence_length'"
     ]
    }
   ],
   "source": [
    "worker = actor_critic(\n",
    "    model_dim = 64,\n",
    "    mlp_dim = 128,\n",
    "    heads = 4,\n",
    "    enc_layers = 2,\n",
    "    dec_layers = 2,\n",
    "    max_sequence = 100,\n",
    "    n_players = 6,\n",
    "    gamma = 0.99,\n",
    "    n_actions = 14\n",
    "    )"
   ]
  },
  {
   "cell_type": "code",
   "execution_count": null,
   "metadata": {},
   "outputs": [],
   "source": []
  }
 ],
 "metadata": {
  "kernelspec": {
   "display_name": "Python 3",
   "language": "python",
   "name": "python3"
  },
  "language_info": {
   "codemirror_mode": {
    "name": "ipython",
    "version": 3
   },
   "file_extension": ".py",
   "mimetype": "text/x-python",
   "name": "python",
   "nbconvert_exporter": "python",
   "pygments_lexer": "ipython3",
   "version": "3.9.6"
  },
  "orig_nbformat": 4,
  "vscode": {
   "interpreter": {
    "hash": "31f2aee4e71d21fbe5cf8b01ff0e069b9275f58929596ceb00d14d90e3e16cd6"
   }
  }
 },
 "nbformat": 4,
 "nbformat_minor": 2
}
