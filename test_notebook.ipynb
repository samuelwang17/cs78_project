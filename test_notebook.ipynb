{
 "cells": [
  {
   "cell_type": "code",
   "execution_count": 5,
   "metadata": {},
   "outputs": [],
   "source": [
    "import time\n",
    "import random\n",
    "import numpy as np\n",
    "import eval7 as e7\n",
    "\n",
    "######################\n"
   ]
  },
  {
   "cell_type": "code",
   "execution_count": 7,
   "metadata": {},
   "outputs": [
    {
     "name": "stdout",
     "output_type": "stream",
     "text": [
      "bench1: 42.795984983444214\n"
     ]
    }
   ],
   "source": [
    "bench = time.time()\n",
    "for i in range(1000000):\n",
    "    deck = e7.Deck()\n",
    "    deck.shuffle()\n",
    "    hands = deck.deal(4)\n",
    "    board = deck.deal(5)\n",
    "print(\"bench1:\", time.time() - bench)"
   ]
  },
  {
   "cell_type": "code",
   "execution_count": 6,
   "metadata": {},
   "outputs": [
    {
     "name": "stdout",
     "output_type": "stream",
     "text": [
      "bench3: 7.221435070037842\n"
     ]
    }
   ],
   "source": [
    "bench = time.time()\n",
    "num_iters = 1000000\n",
    "combos = np.random.randint(52, size=(num_iters, 9))\n",
    "deck = e7.Deck()\n",
    "cards = np.array(deck.deal(52))\n",
    "for i in range(1000000):\n",
    "    hands = cards[combos[i][:4]]\n",
    "    board = cards[combos[i][4:]]\n",
    "    hand1 = np.concatenate([hands[2:],board])\n",
    "    hand2 = np.concatenate([hands[2:],board])\n",
    "    w = e7.evaluate(hand1) > e7.evaluate(hand2)\n",
    "    \n",
    "print(\"bench3:\", time.time() - bench)"
   ]
  },
  {
   "cell_type": "code",
   "execution_count": 7,
   "metadata": {},
   "outputs": [
    {
     "ename": "ValueError",
     "evalue": "Insufficient cards in deck",
     "output_type": "error",
     "traceback": [
      "\u001b[0;31m---------------------------------------------------------------------------\u001b[0m",
      "\u001b[0;31mValueError\u001b[0m                                Traceback (most recent call last)",
      "Cell \u001b[0;32mIn[7], line 1\u001b[0m\n\u001b[0;32m----> 1\u001b[0m deck\u001b[39m.\u001b[39;49mpeek(\u001b[39m2\u001b[39;49m)\n",
      "File \u001b[0;32meval7/cards.pyx:113\u001b[0m, in \u001b[0;36meval7.cards.Deck.peek\u001b[0;34m()\u001b[0m\n",
      "\u001b[0;31mValueError\u001b[0m: Insufficient cards in deck"
     ]
    }
   ],
   "source": [
    "deck.peek(2)"
   ]
  },
  {
   "cell_type": "code",
   "execution_count": 8,
   "metadata": {},
   "outputs": [
    {
     "data": {
      "text/plain": [
       "array([Card(\"6h\"), Card(\"7c\"), Card(\"Js\"), Card(\"Th\")], dtype=object)"
      ]
     },
     "execution_count": 8,
     "metadata": {},
     "output_type": "execute_result"
    }
   ],
   "source": [
    "hands"
   ]
  },
  {
   "cell_type": "code",
   "execution_count": 9,
   "metadata": {},
   "outputs": [
    {
     "data": {
      "text/plain": [
       "Deck([])"
      ]
     },
     "execution_count": 9,
     "metadata": {},
     "output_type": "execute_result"
    }
   ],
   "source": [
    "deck"
   ]
  },
  {
   "cell_type": "code",
   "execution_count": 10,
   "metadata": {},
   "outputs": [
    {
     "data": {
      "text/plain": [
       "array([Card(\"6h\"), Card(\"7c\"), Card(\"Js\"), Card(\"Th\")], dtype=object)"
      ]
     },
     "execution_count": 10,
     "metadata": {},
     "output_type": "execute_result"
    }
   ],
   "source": [
    "hands"
   ]
  },
  {
   "cell_type": "code",
   "execution_count": 11,
   "metadata": {},
   "outputs": [
    {
     "data": {
      "text/plain": [
       "array([Card(\"6h\"), Card(\"7c\")], dtype=object)"
      ]
     },
     "execution_count": 11,
     "metadata": {},
     "output_type": "execute_result"
    }
   ],
   "source": [
    "hands[:2]"
   ]
  },
  {
   "cell_type": "code",
   "execution_count": 12,
   "metadata": {},
   "outputs": [
    {
     "data": {
      "text/plain": [
       "array([Card(\"Js\"), Card(\"Th\")], dtype=object)"
      ]
     },
     "execution_count": 12,
     "metadata": {},
     "output_type": "execute_result"
    }
   ],
   "source": [
    "hands[2:]"
   ]
  },
  {
   "cell_type": "code",
   "execution_count": 13,
   "metadata": {},
   "outputs": [
    {
     "data": {
      "text/plain": [
       "array([Card(\"Th\"), Card(\"8s\"), Card(\"Kh\"), Card(\"4c\"), Card(\"Qd\")],\n",
       "      dtype=object)"
      ]
     },
     "execution_count": 13,
     "metadata": {},
     "output_type": "execute_result"
    }
   ],
   "source": [
    "board"
   ]
  },
  {
   "cell_type": "code",
   "execution_count": 14,
   "metadata": {},
   "outputs": [
    {
     "ename": "ValueError",
     "evalue": "operands could not be broadcast together with shapes (2,) (5,) ",
     "output_type": "error",
     "traceback": [
      "\u001b[0;31m---------------------------------------------------------------------------\u001b[0m",
      "\u001b[0;31mValueError\u001b[0m                                Traceback (most recent call last)",
      "Cell \u001b[0;32mIn[14], line 1\u001b[0m\n\u001b[0;32m----> 1\u001b[0m hands[:\u001b[39m2\u001b[39;49m]\u001b[39m+\u001b[39;49m board\n",
      "\u001b[0;31mValueError\u001b[0m: operands could not be broadcast together with shapes (2,) (5,) "
     ]
    }
   ],
   "source": [
    "hands[:2]+ board"
   ]
  },
  {
   "cell_type": "code",
   "execution_count": 15,
   "metadata": {},
   "outputs": [],
   "source": [
    "h1 = np.concatenate([hands[2:],board])\n",
    "h2 = np.concatenate([hands[:2],board])"
   ]
  },
  {
   "cell_type": "code",
   "execution_count": 16,
   "metadata": {},
   "outputs": [
    {
     "data": {
      "text/plain": [
       "16824976"
      ]
     },
     "execution_count": 16,
     "metadata": {},
     "output_type": "execute_result"
    }
   ],
   "source": [
    "e7.evaluate(h1)"
   ]
  },
  {
   "cell_type": "code",
   "execution_count": 17,
   "metadata": {},
   "outputs": [
    {
     "data": {
      "text/plain": [
       "764005"
      ]
     },
     "execution_count": 17,
     "metadata": {},
     "output_type": "execute_result"
    }
   ],
   "source": [
    "e7.evaluate(h2)"
   ]
  },
  {
   "cell_type": "code",
   "execution_count": 18,
   "metadata": {},
   "outputs": [
    {
     "data": {
      "text/plain": [
       "'Pair'"
      ]
     },
     "execution_count": 18,
     "metadata": {},
     "output_type": "execute_result"
    }
   ],
   "source": [
    "e7.handtype(17156448)"
   ]
  },
  {
   "cell_type": "code",
   "execution_count": 19,
   "metadata": {},
   "outputs": [
    {
     "data": {
      "text/plain": [
       "'Straight'"
      ]
     },
     "execution_count": 19,
     "metadata": {},
     "output_type": "execute_result"
    }
   ],
   "source": [
    "e7.handtype(67698688)"
   ]
  },
  {
   "cell_type": "code",
   "execution_count": 20,
   "metadata": {},
   "outputs": [
    {
     "data": {
      "text/plain": [
       "array([Card(\"6h\"), Card(\"7c\"), Card(\"Th\"), Card(\"8s\"), Card(\"Kh\"),\n",
       "       Card(\"4c\"), Card(\"Qd\")], dtype=object)"
      ]
     },
     "execution_count": 20,
     "metadata": {},
     "output_type": "execute_result"
    }
   ],
   "source": [
    "h2"
   ]
  },
  {
   "cell_type": "code",
   "execution_count": 22,
   "metadata": {},
   "outputs": [],
   "source": [
    "c = h2[0]"
   ]
  },
  {
   "cell_type": "code",
   "execution_count": 23,
   "metadata": {},
   "outputs": [
    {
     "data": {
      "text/plain": [
       "Card(\"6h\")"
      ]
     },
     "execution_count": 23,
     "metadata": {},
     "output_type": "execute_result"
    }
   ],
   "source": [
    "c"
   ]
  },
  {
   "cell_type": "code",
   "execution_count": 24,
   "metadata": {},
   "outputs": [
    {
     "data": {
      "text/plain": [
       "<function Card.__reduce_cython__>"
      ]
     },
     "execution_count": 24,
     "metadata": {},
     "output_type": "execute_result"
    }
   ],
   "source": [
    "c.__reduce__"
   ]
  },
  {
   "cell_type": "code",
   "execution_count": 25,
   "metadata": {},
   "outputs": [],
   "source": [
    "import pickle"
   ]
  },
  {
   "cell_type": "code",
   "execution_count": 26,
   "metadata": {},
   "outputs": [
    {
     "ename": "TypeError",
     "evalue": "no default __reduce__ due to non-trivial __cinit__",
     "output_type": "error",
     "traceback": [
      "\u001b[0;31m---------------------------------------------------------------------------\u001b[0m",
      "\u001b[0;31mTypeError\u001b[0m                                 Traceback (most recent call last)",
      "Cell \u001b[0;32mIn[26], line 4\u001b[0m\n\u001b[1;32m      2\u001b[0m \u001b[39mfor\u001b[39;00m suit \u001b[39min\u001b[39;00m e7\u001b[39m.\u001b[39msuits:\n\u001b[1;32m      3\u001b[0m     card \u001b[39m=\u001b[39m e7\u001b[39m.\u001b[39mCard(rank \u001b[39m+\u001b[39m suit)\n\u001b[0;32m----> 4\u001b[0m     pickled \u001b[39m=\u001b[39m pickle\u001b[39m.\u001b[39;49mdumps(card)\n\u001b[1;32m      5\u001b[0m     card2 \u001b[39m=\u001b[39m pickle\u001b[39m.\u001b[39mloads(pickled)\n\u001b[1;32m      6\u001b[0m     \u001b[39mprint\u001b[39m(card \u001b[39m==\u001b[39m card2)\n",
      "File \u001b[0;32mstringsource:2\u001b[0m, in \u001b[0;36meval7.cards.Card.__reduce_cython__\u001b[0;34m()\u001b[0m\n",
      "\u001b[0;31mTypeError\u001b[0m: no default __reduce__ due to non-trivial __cinit__"
     ]
    }
   ],
   "source": [
    "for i, rank in enumerate(e7.ranks):\n",
    "            for suit in e7.suits:\n",
    "                card = e7.Card(rank + suit)\n",
    "                pickled = pickle.dumps(card)\n",
    "                card2 = pickle.loads(pickled)\n",
    "                print(card == card2)"
   ]
  },
  {
   "cell_type": "code",
   "execution_count": null,
   "metadata": {},
   "outputs": [],
   "source": []
  }
 ],
 "metadata": {
  "kernelspec": {
   "display_name": "Python 3",
   "language": "python",
   "name": "python3"
  },
  "language_info": {
   "codemirror_mode": {
    "name": "ipython",
    "version": 3
   },
   "file_extension": ".py",
   "mimetype": "text/x-python",
   "name": "python",
   "nbconvert_exporter": "python",
   "pygments_lexer": "ipython3",
   "version": "3.9.6"
  },
  "orig_nbformat": 4,
  "vscode": {
   "interpreter": {
    "hash": "31f2aee4e71d21fbe5cf8b01ff0e069b9275f58929596ceb00d14d90e3e16cd6"
   }
  }
 },
 "nbformat": 4,
 "nbformat_minor": 2
}
